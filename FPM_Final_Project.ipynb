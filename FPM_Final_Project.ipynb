{
 "cells": [
  {
   "cell_type": "code",
   "execution_count": 1,
   "id": "treated-grain",
   "metadata": {},
   "outputs": [],
   "source": [
    "from diffprivlib import tools\n",
    "import pandas as pd\n",
    "import random\n",
    "\n",
    "data = pd.read_csv(\"FPM_toy_dataset_Slider.csv\")\n",
    "data['how_often_do_you_have_a_drink_of_alcohol'] = 9-data['how_often_do_you_have_a_drink_of_alcohol']\n"
   ]
  },
  {
   "cell_type": "code",
   "execution_count": 23,
   "id": "packed-verification",
   "metadata": {},
   "outputs": [
    {
     "data": {
      "text/plain": [
       "Index(['Unnamed: 0', 'participant_id', 'past_month_illicit_drug_use',\n",
       "       'past_year_marijuana_use', 'past_month_marijuana_use',\n",
       "       'perceptions_of_great_risk_from_smoking_marijuana_once_a_month',\n",
       "       'first_use_of_marijuana',\n",
       "       'past_month_illicit_drug_use_other_than_marijuana',\n",
       "       'past_year_cocaine_use',\n",
       "       'perceptions_of_great_risk_from_trying_heroin_once_or_twice',\n",
       "       'past_year_methamphetamine_use', 'past_year_misuse_of_pain_relievers',\n",
       "       'past_month_alcohol_use', 'past_month_bing_alcohol_use',\n",
       "       'perceptions_of_great_risk_from_having_five_or_more_drinks_once_or_twice_a_week',\n",
       "       'past_month_alcohol_use.1', 'past_month_bing_alcohol',\n",
       "       'past_month_tobacco_product_use', 'past_month_cigarette_use',\n",
       "       'perceptions_of_great_risk_from_smoking_one_or_more_packs_per_day',\n",
       "       'illicit_drug_use_disorder', 'pain_reliever_use_disorder',\n",
       "       'alcohol_use_disorder', 'substance_use_disorder',\n",
       "       'needing_but_not_retrieving_treatment_for_illicit_drug',\n",
       "       'needing_but_not_retrieving_treatment_for_alcohol_use',\n",
       "       'received_mental_health_services', 'major_depressive_episode',\n",
       "       'had_serious_thoughts_of_suicide', 'made_any_suicide_plans',\n",
       "       'attempted_suicide', 'how_often_do_you_have_a_drink_of_alcohol',\n",
       "       'birth_year', 'race', 'gender', 'household_income', 'school_grade',\n",
       "       'state', 'zip_code', 'survey_taken_date', 'past_year_cocain_use'],\n",
       "      dtype='object')"
      ]
     },
     "execution_count": 23,
     "metadata": {},
     "output_type": "execute_result"
    }
   ],
   "source": [
    "data.columns"
   ]
  },
  {
   "cell_type": "code",
   "execution_count": 2,
   "id": "democratic-china",
   "metadata": {},
   "outputs": [
    {
     "data": {
      "text/html": [
       "<div>\n",
       "<style scoped>\n",
       "    .dataframe tbody tr th:only-of-type {\n",
       "        vertical-align: middle;\n",
       "    }\n",
       "\n",
       "    .dataframe tbody tr th {\n",
       "        vertical-align: top;\n",
       "    }\n",
       "\n",
       "    .dataframe thead th {\n",
       "        text-align: right;\n",
       "    }\n",
       "</style>\n",
       "<table border=\"1\" class=\"dataframe\">\n",
       "  <thead>\n",
       "    <tr style=\"text-align: right;\">\n",
       "      <th></th>\n",
       "      <th>Unnamed: 0</th>\n",
       "      <th>participant_id</th>\n",
       "      <th>past_month_illicit_drug_use</th>\n",
       "      <th>past_year_marijuana_use</th>\n",
       "      <th>past_month_marijuana_use</th>\n",
       "      <th>perceptions_of_great_risk_from_smoking_marijuana_once_a_month</th>\n",
       "      <th>first_use_of_marijuana</th>\n",
       "      <th>past_month_illicit_drug_use_other_than_marijuana</th>\n",
       "      <th>past_year_cocaine_use</th>\n",
       "      <th>perceptions_of_great_risk_from_trying_heroin_once_or_twice</th>\n",
       "      <th>...</th>\n",
       "      <th>how_often_do_you_have_a_drink_of_alcohol</th>\n",
       "      <th>birth_year</th>\n",
       "      <th>race</th>\n",
       "      <th>gender</th>\n",
       "      <th>household_income</th>\n",
       "      <th>school_grade</th>\n",
       "      <th>state</th>\n",
       "      <th>zip_code</th>\n",
       "      <th>survey_taken_date</th>\n",
       "      <th>past_year_cocain_use</th>\n",
       "    </tr>\n",
       "  </thead>\n",
       "  <tbody>\n",
       "    <tr>\n",
       "      <th>1561</th>\n",
       "      <td>1561</td>\n",
       "      <td>1562</td>\n",
       "      <td>0</td>\n",
       "      <td>0</td>\n",
       "      <td>0</td>\n",
       "      <td>2</td>\n",
       "      <td>0</td>\n",
       "      <td>0</td>\n",
       "      <td>1</td>\n",
       "      <td>2</td>\n",
       "      <td>...</td>\n",
       "      <td>9</td>\n",
       "      <td>2000</td>\n",
       "      <td>Black or African American</td>\n",
       "      <td>female</td>\n",
       "      <td>5</td>\n",
       "      <td>10</td>\n",
       "      <td>1</td>\n",
       "      <td>0</td>\n",
       "      <td>4</td>\n",
       "      <td>0</td>\n",
       "    </tr>\n",
       "  </tbody>\n",
       "</table>\n",
       "<p>1 rows × 41 columns</p>\n",
       "</div>"
      ],
      "text/plain": [
       "      Unnamed: 0  participant_id  past_month_illicit_drug_use  \\\n",
       "1561        1561            1562                            0   \n",
       "\n",
       "      past_year_marijuana_use  past_month_marijuana_use  \\\n",
       "1561                        0                         0   \n",
       "\n",
       "      perceptions_of_great_risk_from_smoking_marijuana_once_a_month  \\\n",
       "1561                                                  2               \n",
       "\n",
       "      first_use_of_marijuana  \\\n",
       "1561                       0   \n",
       "\n",
       "      past_month_illicit_drug_use_other_than_marijuana  past_year_cocaine_use  \\\n",
       "1561                                                 0                      1   \n",
       "\n",
       "      perceptions_of_great_risk_from_trying_heroin_once_or_twice  ...  \\\n",
       "1561                                                  2           ...   \n",
       "\n",
       "      how_often_do_you_have_a_drink_of_alcohol  birth_year  \\\n",
       "1561                                         9        2000   \n",
       "\n",
       "                           race  gender  household_income  school_grade  \\\n",
       "1561  Black or African American  female                 5            10   \n",
       "\n",
       "      state  zip_code  survey_taken_date  past_year_cocain_use  \n",
       "1561      1         0                  4                     0  \n",
       "\n",
       "[1 rows x 41 columns]"
      ]
     },
     "execution_count": 2,
     "metadata": {},
     "output_type": "execute_result"
    }
   ],
   "source": [
    "data[(data['zip_code'] == 0) & (data['race'] == 'Black or African American') & (data['gender'] == 'female') & (data['survey_taken_date'] == 4) & (data['state'] == 1)]"
   ]
  },
  {
   "cell_type": "code",
   "execution_count": 3,
   "id": "dietary-alexander",
   "metadata": {},
   "outputs": [],
   "source": [
    "d_without = data[(data['zip_code'] != 0) | (data['race'] != 'Black or African American') | (data['household_income'] != 5) | (data['survey_taken_date'] != 4) | (data['state'] != 1)]"
   ]
  },
  {
   "cell_type": "code",
   "execution_count": 4,
   "id": "joint-publication",
   "metadata": {},
   "outputs": [],
   "source": [
    "#uses the IBM differential privacy library to take a differentially private mean on a list of values, given some epsilon.\n",
    "#this function repeatedly performs the DP mean query and creates a distribution of the outputed values.\n",
    "def get_mean_distr(data_column, data_min, data_max, epsilon = 1):\n",
    "    output = []\n",
    "    #data_min = min(data_column)\n",
    "    #data_max = max(data_column)\n",
    "    for i in range(0, 1000):\n",
    "        temp_mean = tools.mean(data_column, bounds = (data_min, data_max), epsilon = epsilon)\n",
    "        output.append(temp_mean)\n",
    "    return(output)"
   ]
  },
  {
   "cell_type": "code",
   "execution_count": 22,
   "id": "neither-carrier",
   "metadata": {
    "scrolled": true
   },
   "outputs": [
    {
     "data": {
      "application/vnd.jupyter.widget-view+json": {
       "model_id": "b1029b094be94dc996f43f4f4be998f8",
       "version_major": 2,
       "version_minor": 0
      },
      "text/plain": [
       "FloatSlider(value=1.0, continuous_update=False, description='epsilon:', max=2.1, min=0.001, readout_format='.3…"
      ]
     },
     "metadata": {},
     "output_type": "display_data"
    },
    {
     "data": {
      "application/vnd.jupyter.widget-view+json": {
       "model_id": "c9c05c16308946fa94140cff3345e02b",
       "version_major": 2,
       "version_minor": 0
      },
      "text/plain": [
       "Output()"
      ]
     },
     "metadata": {},
     "output_type": "display_data"
    }
   ],
   "source": [
    "import ipywidgets as widgets\n",
    "import matplotlib.pyplot as plt\n",
    "import numpy as np\n",
    "from scipy.stats import gaussian_kde\n",
    "import statistics\n",
    "\n",
    "float_slider = widgets.FloatSlider(\n",
    "    value=1,\n",
    "    min=0.001,\n",
    "    max=2.1,\n",
    "    step=0.1,\n",
    "    description='epsilon:',\n",
    "    disabled=False,\n",
    "    continuous_update=False,\n",
    "    orientation='horizontal',\n",
    "    readout=True,\n",
    "    readout_format='.3f',\n",
    ")\n",
    "output = widgets.Output()\n",
    "\n",
    "display(float_slider, output)\n",
    "def on_value_change(change):\n",
    "    with output:\n",
    "        output.clear_output()\n",
    "        data_min = data['how_often_do_you_have_a_drink_of_alcohol'].min()\n",
    "        data_max = data['how_often_do_you_have_a_drink_of_alcohol'].max()\n",
    "\n",
    "        data1 = get_mean_distr(data['how_often_do_you_have_a_drink_of_alcohol'], data_min, data_max, epsilon= float_slider.value)\n",
    "        data2 = get_mean_distr(d_without['how_often_do_you_have_a_drink_of_alcohol'], data_min, data_max, epsilon= float_slider.value)\n",
    "\n",
    "\n",
    "        bound_1 = min(data1)\n",
    "        bound_2 = max(data1)\n",
    "        d1_df = pd.DataFrame(data1)\n",
    "        d1_density = gaussian_kde(d1_df[0])\n",
    "        d2_df = pd.DataFrame(data2)\n",
    "        d2_density = gaussian_kde(d2_df[0])\n",
    "\n",
    "        xs = np.linspace(bound_1,bound_2,200)\n",
    "        plt.plot(xs,d1_density(xs), label = 'data w/ individual')\n",
    "        plt.plot(xs, d2_density(xs), label = 'data w/o individual')\n",
    "        plt.legend(loc='upper right')\n",
    "        plt.title(\"Distribution of Query Outputs for neighboring datasets\")\n",
    "        plt.show()\n",
    "        print(statistics.stdev(data1))\n",
    "        \n",
    "float_slider.observe(on_value_change, names='value')"
   ]
  },
  {
   "cell_type": "code",
   "execution_count": 19,
   "id": "computational-kinase",
   "metadata": {},
   "outputs": [
    {
     "data": {
      "text/plain": [
       "Ttest_indResult(statistic=0.4408188410183241, pvalue=0.6593918435485799)"
      ]
     },
     "execution_count": 19,
     "metadata": {},
     "output_type": "execute_result"
    }
   ],
   "source": [
    "data_min = data['how_often_do_you_have_a_drink_of_alcohol'].min()\n",
    "data_max = data['how_often_do_you_have_a_drink_of_alcohol'].max()\n",
    "\n",
    "data1 = get_mean_distr(data['how_often_do_you_have_a_drink_of_alcohol'], data_min, data_max, epsilon= 0.101)\n",
    "data2 = get_mean_distr(d_without['how_often_do_you_have_a_drink_of_alcohol'], data_min, data_max, epsilon= 0.101)\n",
    "\n",
    "import scipy.stats as stats\n",
    "\n",
    "stats.ttest_ind(data1, data2)"
   ]
  },
  {
   "cell_type": "markdown",
   "id": "foreign-viking",
   "metadata": {},
   "source": [
    "## The Epsilon Parameter\n",
    "\n",
    "In our dataset, the variable `how_often_do_you_have_a_drink_of_alcohol` is a quantitative score representing how often an individual drinks alcohol. A score of 0 represents an individual who does not drink and a score of 9 represents an individual who drinks multiple times every day.\n",
    "\n",
    "The cell above shows the distribution of `how_often_do_you_have_a_drink_of_alcohol` query results for two neighboring datasets using differentially private mechanisms. By neighboring datasets we mean that they differ in only one individual of interest, which has been specified earlier. As we move around the slider and change the epsilon parameter value, we can see the effects of having too large or too small an epsilon. \n",
    "\n",
    "If the privacy implementation were to use too large of an epsilon, say `epsilon = 2`, then we can see that the distribution of query results are significantly different. This means that an attacker can identify that the individual of interest is not only within the dataset, but also that the individual's `how_often_do_you_have_a_drink_of_alcohol` score was higher than average.\n",
    "\n",
    "On the flip side, as we slower the value of epsilon we can see that the query results become less accurate. With an epsilon of 2 the query results have a standard deviation of around 0.0006, while with an epsilon of 0.1 the query results have a standard deviation of around 0.01. While with this dataset this does not amount to a significant amount of noise, choosing a lower epsilon value will decrease the accuracy of your query results. Thus there is always a trade off between privacy and accuracy to keep in mind. How accurate do you need your query results to be? Is there a certain amount of privacy that you're willing to risk in return for more accurate results for the people using your system? It is important to think about these questions and figure out the goals of your data system are, and what are the potential consequences of various implementations of differential privacy."
   ]
  },
  {
   "cell_type": "markdown",
   "id": "strange-financing",
   "metadata": {},
   "source": [
    "## Privacy Budget\n",
    "\n",
    "In the previous example we saw that if an inappropriate epsilon is chosen, an attacker can use a large number of arbitrary queries to construct the noise distribution for any given query result. With a conservative enough epsilon privacy can still be preserved to a point, but giving users unlimited query power decreases the privacy of a dataset and may require outputting queries with too much noise to be useful.\n",
    "\n",
    "To combat the privacy loss associated with querying, we can consider implementing a privacy budget. The idea of a privacy budget is that, beforehand, you set up an epsilon budget. This budget serves as an upper ceiling to cap the amount of queries that can be performed. As a query is made, the epsilon of that query is added to an epsilon counter. Users can  perform queries as long as adding the epsilon associated with the query does not make the epsilon counter go over the budget.\n",
    "\n",
    "For example if you were to set the IBM privacy accountant to have an epsilon budget of 2, users could only make queries with an epsilon value of 2 or lower. They could ask for a mean of a sample using an epsilon of 2, or they could ask for the mean of two different samples with epsilon 1, etc. Once they have exhausted the privacy budget, all users will no longer be able to ask any more questions.\n",
    "\n",
    "Preventing users from getting any information after the privacy budget is spent may not be ideal. To alleviate this issue and make it so people querying the data can still get some information, a cache can be implemented. What the cache will do is keep track of previous query results and simply return these values if the same query is run again. This can reduce how quickly a privacy budget is spent, as redundant queries will not spend more of the budget, and it means that once the budget has run out users can still get the results of previously made queries."
   ]
  }
 ],
 "metadata": {
  "kernelspec": {
   "display_name": "Python 3",
   "language": "python",
   "name": "python3"
  },
  "language_info": {
   "codemirror_mode": {
    "name": "ipython",
    "version": 3
   },
   "file_extension": ".py",
   "mimetype": "text/x-python",
   "name": "python",
   "nbconvert_exporter": "python",
   "pygments_lexer": "ipython3",
   "version": "3.9.1"
  }
 },
 "nbformat": 4,
 "nbformat_minor": 5
}
